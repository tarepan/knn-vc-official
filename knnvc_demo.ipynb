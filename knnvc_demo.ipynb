{
  "cells": [
    {
      "cell_type": "code",
      "execution_count": 1,
      "metadata": {
        "colab": {
          "base_uri": "https://localhost:8080/"
        },
        "id": "L8If-TOe4BZO",
        "outputId": "0ed08fba-ad75-48a9-be34-b4976f286bb7"
      },
      "outputs": [
        {
          "name": "stderr",
          "output_type": "stream",
          "text": [
            "Downloading: \"https://github.com/bshall/knn-vc/zipball/master\" to /root/.cache/torch/hub/master.zip\n",
            "Downloading: \"https://github.com/bshall/knn-vc/releases/download/v0.1/prematch_g_02500000.pt\" to /root/.cache/torch/hub/checkpoints/prematch_g_02500000.pt\n",
            "100%|██████████| 63.1M/63.1M [00:03<00:00, 20.5MB/s]\n",
            "Downloading: \"https://github.com/bshall/knn-vc/releases/download/v0.1/WavLM-Large.pt\" to /root/.cache/torch/hub/checkpoints/WavLM-Large.pt\n"
          ]
        },
        {
          "name": "stdout",
          "output_type": "stream",
          "text": [
            "Removing weight norm...\n",
            "[HiFiGAN] Generator loaded with 16,523,393 parameters.\n"
          ]
        },
        {
          "name": "stderr",
          "output_type": "stream",
          "text": [
            "100%|██████████| 1.18G/1.18G [00:43<00:00, 28.8MB/s]\n"
          ]
        },
        {
          "name": "stdout",
          "output_type": "stream",
          "text": [
            "WavLM-Large loaded with 315,453,120 parameters.\n"
          ]
        }
      ],
      "source": [
        "import torch, torchaudio\n",
        "\n",
        "knn_vc = torch.hub.load('tarepan/knn-vc-official', 'knn_vc', prematched=True, trust_repo=True, pretrained=True, device='cuda')"
      ]
    },
    {
      "cell_type": "code",
      "execution_count": 2,
      "metadata": {
        "id": "OSTHzOc14In5"
      },
      "outputs": [],
      "source": [
        "# path to 16kHz, single-channel, source waveform\n",
        "src_wav_path = '/content/src.wav'\n",
        "# list of paths to all reference waveforms (each must be 16kHz, single-channel) from the target speaker\n",
        "ref_wav_paths = ['/content/ref1.wav', ]\n",
        "\n",
        "query_seq = knn_vc.get_features(src_wav_path)\n",
        "matching_set = knn_vc.get_matching_set(ref_wav_paths)"
      ]
    },
    {
      "cell_type": "code",
      "execution_count": 3,
      "metadata": {
        "id": "UREha7VM4idc"
      },
      "outputs": [],
      "source": [
        "out_wav = knn_vc.match(query_seq, matching_set, topk=4)"
      ]
    },
    {
      "cell_type": "code",
      "execution_count": 4,
      "metadata": {
        "id": "1YhPSQ4f4nF0"
      },
      "outputs": [],
      "source": [
        "import IPython.display as ipd"
      ]
    },
    {
      "cell_type": "code",
      "execution_count": null,
      "metadata": {
        "id": "7-xbWSqf7iAK"
      },
      "outputs": [],
      "source": [
        "ipd.Audio(out_wav.numpy(), rate=16000)"
      ]
    },
    {
      "cell_type": "code",
      "execution_count": null,
      "metadata": {
        "id": "QDA9xO_mB1eD"
      },
      "outputs": [],
      "source": [
        "torchaudio.save('knnvc1_out.wav', out_wav[None], 16000)"
      ]
    },
    {
      "cell_type": "markdown",
      "metadata": {
        "id": "wyWtICjSECkF"
      },
      "source": [
        "<audio name=\"abstract-reader\" controls preload src=\"https://github.com/bshall/knn-vc/releases/download/v0.1/david-attenborough.wav\"></audio>"
      ]
    }
  ],
  "metadata": {
    "accelerator": "GPU",
    "colab": {
      "gpuType": "T4",
      "provenance": []
    },
    "kernelspec": {
      "display_name": "Python 3",
      "name": "python3"
    },
    "language_info": {
      "name": "python"
    }
  },
  "nbformat": 4,
  "nbformat_minor": 0
}
